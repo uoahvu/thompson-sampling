{
 "cells": [
  {
   "cell_type": "code",
   "execution_count": 1,
   "metadata": {},
   "outputs": [
    {
     "data": {
      "text/html": [
       "<div>\n",
       "<style scoped>\n",
       "    .dataframe tbody tr th:only-of-type {\n",
       "        vertical-align: middle;\n",
       "    }\n",
       "\n",
       "    .dataframe tbody tr th {\n",
       "        vertical-align: top;\n",
       "    }\n",
       "\n",
       "    .dataframe thead th {\n",
       "        text-align: right;\n",
       "    }\n",
       "</style>\n",
       "<table border=\"1\" class=\"dataframe\">\n",
       "  <thead>\n",
       "    <tr style=\"text-align: right;\">\n",
       "      <th></th>\n",
       "      <th>timestamp</th>\n",
       "      <th>displayed_article_id</th>\n",
       "      <th>user_click</th>\n",
       "      <th>user_features</th>\n",
       "      <th>datetime</th>\n",
       "    </tr>\n",
       "  </thead>\n",
       "  <tbody>\n",
       "    <tr>\n",
       "      <th>0</th>\n",
       "      <td>1317513301</td>\n",
       "      <td>id-565533</td>\n",
       "      <td>0</td>\n",
       "      <td>user 1 8 11 36 13 22 23 16 18 24 26 17 45 19 4...</td>\n",
       "      <td>2011-10-02 08:55:01</td>\n",
       "    </tr>\n",
       "    <tr>\n",
       "      <th>1</th>\n",
       "      <td>1317513328</td>\n",
       "      <td>id-560518</td>\n",
       "      <td>0</td>\n",
       "      <td>user 1 13 18 26 17 45 19 15 14 39 66 104 20</td>\n",
       "      <td>2011-10-02 08:55:28</td>\n",
       "    </tr>\n",
       "    <tr>\n",
       "      <th>2</th>\n",
       "      <td>1317513333</td>\n",
       "      <td>id-560518</td>\n",
       "      <td>0</td>\n",
       "      <td>user 1 7 11 13 23 16 18 17 35 25 15 14 30 50 27</td>\n",
       "      <td>2011-10-02 08:55:33</td>\n",
       "    </tr>\n",
       "    <tr>\n",
       "      <th>3</th>\n",
       "      <td>1317513339</td>\n",
       "      <td>id-560518</td>\n",
       "      <td>0</td>\n",
       "      <td>user 1 9 11 36 13 23 33 32 16 18 24 17 35 19 2...</td>\n",
       "      <td>2011-10-02 08:55:39</td>\n",
       "    </tr>\n",
       "    <tr>\n",
       "      <th>4</th>\n",
       "      <td>1317513346</td>\n",
       "      <td>id-563643</td>\n",
       "      <td>0</td>\n",
       "      <td>user 1 13 23 16 18 26 17 19 29 15 14 30 27 20</td>\n",
       "      <td>2011-10-02 08:55:46</td>\n",
       "    </tr>\n",
       "  </tbody>\n",
       "</table>\n",
       "</div>"
      ],
      "text/plain": [
       "    timestamp displayed_article_id  user_click  \\\n",
       "0  1317513301            id-565533           0   \n",
       "1  1317513328            id-560518           0   \n",
       "2  1317513333            id-560518           0   \n",
       "3  1317513339            id-560518           0   \n",
       "4  1317513346            id-563643           0   \n",
       "\n",
       "                                       user_features             datetime  \n",
       "0  user 1 8 11 36 13 22 23 16 18 24 26 17 45 19 4...  2011-10-02 08:55:01  \n",
       "1       user 1 13 18 26 17 45 19 15 14 39 66 104 20   2011-10-02 08:55:28  \n",
       "2   user 1 7 11 13 23 16 18 17 35 25 15 14 30 50 27   2011-10-02 08:55:33  \n",
       "3  user 1 9 11 36 13 23 33 32 16 18 24 17 35 19 2...  2011-10-02 08:55:39  \n",
       "4     user 1 13 23 16 18 26 17 19 29 15 14 30 27 20   2011-10-02 08:55:46  "
      ]
     },
     "execution_count": 1,
     "metadata": {},
     "output_type": "execute_result"
    }
   ],
   "source": [
    "import pandas as pd\n",
    "\n",
    "data = pd.read_csv('./article_click_log.csv')\n",
    "data.head()"
   ]
  },
  {
   "cell_type": "code",
   "execution_count": 2,
   "metadata": {},
   "outputs": [
    {
     "data": {
      "text/plain": [
       "id-563643    479\n",
       "id-560518    478\n",
       "id-565533    468\n",
       "Name: displayed_article_id, dtype: int64"
      ]
     },
     "execution_count": 2,
     "metadata": {},
     "output_type": "execute_result"
    }
   ],
   "source": [
    "data['displayed_article_id'].value_counts()"
   ]
  },
  {
   "cell_type": "code",
   "execution_count": 4,
   "metadata": {},
   "outputs": [
    {
     "data": {
      "text/plain": [
       "displayed_article_id  user_click\n",
       "id-560518             0             475\n",
       "                      1               3\n",
       "id-563643             0             460\n",
       "                      1              19\n",
       "id-565533             0             448\n",
       "                      1              20\n",
       "Name: user_click, dtype: int64"
      ]
     },
     "execution_count": 4,
     "metadata": {},
     "output_type": "execute_result"
    }
   ],
   "source": [
    "data.groupby('displayed_article_id')['user_click'].value_counts()"
   ]
  },
  {
   "cell_type": "code",
   "execution_count": 12,
   "metadata": {},
   "outputs": [],
   "source": [
    "import numpy as np\n",
    "\n",
    "class ThompsonSamplingMAB:\n",
    "    def __init__(self, article_ids):\n",
    "        self.article_ids = article_ids\n",
    "        self.alpha = {article: 1 for article in article_ids} \n",
    "        self.beta = {article: 1 for article in article_ids}\n",
    "\n",
    "    def select_article(self):\n",
    "        sampled_values = {article: np.random.beta(self.alpha[article], self.beta[article]) \n",
    "                          for article in self.article_ids}\n",
    "        \n",
    "        return max(sampled_values, key=sampled_values.get)\n",
    "\n",
    "    def update(self, article_id, reward):\n",
    "        if reward == 1:\n",
    "            self.alpha[article_id] += 1 \n",
    "        else:\n",
    "            self.beta[article_id] += 1 "
   ]
  },
  {
   "cell_type": "code",
   "execution_count": 13,
   "metadata": {},
   "outputs": [
    {
     "data": {
      "image/png": "[encoded data removed]",
      "text/plain": [
       "<Figure size 432x288 with 1 Axes>"
      ]
     },
     "metadata": {
      "needs_background": "light"
     },
     "output_type": "display_data"
    }
   ],
   "source": [
    "import numpy as np\n",
    "from numpy import linspace\n",
    "\n",
    "from scipy.special import beta as betaf\n",
    "\n",
    "from IPython import display\n",
    "import matplotlib.pyplot as plt\n",
    "%matplotlib inline\n",
    "\n",
    "article_pool = data['displayed_article_id'].unique()\n",
    "mab = ThompsonSamplingMAB(article_pool)\n",
    "\n",
    "click_data = data[['displayed_article_id','user_click']]\n",
    "\n",
    "x = linspace(.01, .99, 99)\n",
    "cmap = plt.cm.get_cmap(\"tab10\", len(article_pool))\n",
    "\n",
    "for index, row in click_data.iterrows():\n",
    "    article_id = row['displayed_article_id']\n",
    "    \n",
    "    mab.update(article_id, row['user_click'])\n",
    "\n",
    "    plt.xlim([0, 1]) \n",
    "    plt.ylim([0, 50]) \n",
    "    for aidx, article in enumerate(article_pool):\n",
    "        alpha, beta = mab.alpha[article], mab.beta[article]\n",
    "        y = (1 / betaf(alpha, beta)) * x ** (alpha - 1) * (1 - x) ** (beta - 1)\n",
    "        plt.plot(x, y, color=cmap(aidx), label=article)\n",
    "    plt.legend(loc=\"best\")\n",
    "    plt.show()\n",
    "    display.clear_output(wait=True)\n"
   ]
  },
  {
   "cell_type": "code",
   "execution_count": 14,
   "metadata": {},
   "outputs": [
    {
     "name": "stdout",
     "output_type": "stream",
     "text": [
      "Article ID: id-565533, α: 21, β: 449, CTR: 0.04\n",
      "Article ID: id-560518, α: 4, β: 476, CTR: 0.01\n",
      "Article ID: id-563643, α: 20, β: 461, CTR: 0.04\n"
     ]
    }
   ],
   "source": [
    "def display_mab_state(mab):\n",
    "    for article_id in mab.article_ids:\n",
    "        alpha, beta = mab.alpha[article_id], mab.beta[article_id]\n",
    "        ctr = alpha / (alpha + beta)\n",
    "        print(f\"Article ID: {article_id}, α: {alpha}, β: {beta}, CTR: {ctr:.2f}\")\n",
    "\n",
    "display_mab_state(mab)"
   ]
  },
  {
   "cell_type": "code",
   "execution_count": null,
   "metadata": {},
   "outputs": [],
   "source": []
  }
 ],
 "metadata": {
  "kernelspec": {
   "display_name": "base",
   "language": "python",
   "name": "python3"
  },
  "language_info": {
   "codemirror_mode": {
    "name": "ipython",
    "version": 3
   },
   "file_extension": ".py",
   "mimetype": "text/x-python",
   "name": "python",
   "nbconvert_exporter": "python",
   "pygments_lexer": "ipython3",
   "version": "3.8.5"
  }
 },
 "nbformat": 4,
 "nbformat_minor": 2
}
